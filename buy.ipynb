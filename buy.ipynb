{
 "cells": [
  {
   "cell_type": "code",
   "id": "initial_id",
   "metadata": {
    "collapsed": true
   },
   "source": [
    "from ibapi.client import *\n",
    "from ibapi.wrapper import *\n",
    "from ibapi.contract import Contract\n",
    "from ibapi.order import Order\n",
    "\n",
    "class TestApp(EClient, EWrapper):\n",
    "    def __init__(self):\n",
    "        EClient.__init__(self, self)\n",
    "        self.nextOrderId = None\n",
    "\n",
    "    def nextValidId(self, orderId: int):\n",
    "        self.nextOrderId = orderId\n",
    "        print(f\"Next valid order ID: {orderId}\")\n",
    "\n",
    "        # Create GBP/USD contract\n",
    "        mycontract = Contract()\n",
    "        mycontract.symbol = \"GBP\"\n",
    "        mycontract.secType = \"CASH\"\n",
    "        mycontract.exchange = \"IDEALPRO\"\n",
    "        mycontract.currency = \"USD\"\n",
    "\n",
    "        # Create a market order to BUY\n",
    "        myorder = Order()\n",
    "        myorder.orderId = self.nextOrderId\n",
    "        myorder.action = \"BUY\"\n",
    "        myorder.orderType = \"MKT\"  # Market order\n",
    "        myorder.totalQuantity = 10000  # Example quantity\n",
    "        myorder.eTradeOnly = False  # This removes the EtradeOnly restriction\n",
    "        myorder.firmQuoteOnly = False  # Explicitly disable FirmQuoteOnly\n",
    "\n",
    "        # Place the order\n",
    "        self.placeOrder(myorder.orderId, mycontract, myorder)\n",
    "        print(f\"Placed market BUY order for {myorder.totalQuantity} GBP/USD\")\n",
    "\n",
    "    def openOrder(self, orderId: int, contract: Contract, order: Order, orderState):\n",
    "        print(f\"OpenOrder. orderId: {orderId}, contract: {contract}, order: {order}\")\n",
    "\n",
    "    def execDetails(self, reqId: int, contract: Contract, execution):\n",
    "        print(f\"Execution details. reqId: {reqId}, contract: {contract}, execution: {execution}\")\n",
    "\n",
    "    def error(self, reqId: int, errorCode: int, errorString: str):\n",
    "        print(f\"Error. reqId: {reqId}, errorCode: {errorCode}, errorString: {errorString}\")\n",
    "\n",
    "# Connect and run\n",
    "app = TestApp()\n",
    "app.connect(\"127.0.0.1\", 7497, clientId=200)\n",
    "app.run()"
   ],
   "outputs": [],
   "execution_count": null
  },
  {
   "metadata": {},
   "cell_type": "code",
   "source": "",
   "id": "71c1c6bbdaf823fc",
   "outputs": [],
   "execution_count": null
  }
 ],
 "metadata": {
  "kernelspec": {
   "display_name": "Python 3",
   "language": "python",
   "name": "python3"
  },
  "language_info": {
   "codemirror_mode": {
    "name": "ipython",
    "version": 2
   },
   "file_extension": ".py",
   "mimetype": "text/x-python",
   "name": "python",
   "nbconvert_exporter": "python",
   "pygments_lexer": "ipython2",
   "version": "2.7.6"
  }
 },
 "nbformat": 4,
 "nbformat_minor": 5
}
